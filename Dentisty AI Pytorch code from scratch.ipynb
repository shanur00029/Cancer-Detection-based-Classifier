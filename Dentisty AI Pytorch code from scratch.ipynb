{
 "cells": [
  {
   "cell_type": "code",
   "execution_count": 1,
   "metadata": {
    "colab": {
     "base_uri": "https://localhost:8080/",
     "height": 122
    },
    "colab_type": "code",
    "id": "ewpK3SM3uJEO",
    "outputId": "69d82050-f30c-4f0a-872d-8b63f2a90880"
   },
   "outputs": [
    {
     "name": "stdout",
     "output_type": "stream",
     "text": [
      "Go to this URL in a browser: https://accounts.google.com/o/oauth2/auth?client_id=947318989803-6bn6qk8qdgf4n4g3pfee6491hc0brc4i.apps.googleusercontent.com&redirect_uri=urn%3Aietf%3Awg%3Aoauth%3A2.0%3Aoob&scope=email%20https%3A%2F%2Fwww.googleapis.com%2Fauth%2Fdocs.test%20https%3A%2F%2Fwww.googleapis.com%2Fauth%2Fdrive%20https%3A%2F%2Fwww.googleapis.com%2Fauth%2Fdrive.photos.readonly%20https%3A%2F%2Fwww.googleapis.com%2Fauth%2Fpeopleapi.readonly&response_type=code\n",
      "\n",
      "Enter your authorization code:\n",
      "··········\n",
      "Mounted at /content/drive\n"
     ]
    }
   ],
   "source": [
    "# Load the Drive helper and mount\n",
    "from google.colab import drive\n",
    "\n",
    "# This will prompt for authorization.\n",
    "drive.mount('/content/drive')"
   ]
  },
  {
   "cell_type": "code",
   "execution_count": 2,
   "metadata": {
    "colab": {
     "base_uri": "https://localhost:8080/",
     "height": 34
    },
    "colab_type": "code",
    "id": "tHZYwsIxuXfZ",
    "outputId": "d64129cc-dbb5-46c6-ac9e-9d2f02ddf21d"
   },
   "outputs": [
    {
     "name": "stdout",
     "output_type": "stream",
     "text": [
      "Test  Train\n"
     ]
    }
   ],
   "source": [
    "!ls \"/content/drive/My Drive/dataset\""
   ]
  },
  {
   "cell_type": "code",
   "execution_count": 0,
   "metadata": {
    "colab": {},
    "colab_type": "code",
    "id": "WQ7YCtRfurtf"
   },
   "outputs": [],
   "source": [
    "# Imports here\n",
    "%matplotlib inline\n",
    "%config InlineBackend.figure_format = 'retina'\n",
    "import matplotlib.pyplot as plt\n",
    "\n",
    "import torch\n",
    "import numpy as np\n",
    "from torch import nn\n",
    "from torch import optim\n",
    "import torch.nn.functional as F\n",
    "from torchvision import datasets, transforms, models\n",
    "from PIL import Image\n",
    "from collections import OrderedDict\n",
    "import json\n",
    "import torchvision \n",
    "import torch\n",
    "import torch.nn as nn\n",
    "import torch.optim as optim\n",
    "import torch.nn.functional as F\n",
    "\n",
    "import torchvision\n",
    "import torchvision.transforms as transforms\n",
    "import pdb\n",
    "\n",
    "torch.set_printoptions(linewidth=120)\n",
    "torch.set_grad_enabled(True) \n",
    "from torch.utils.tensorboard import SummaryWriter\n"
   ]
  },
  {
   "cell_type": "code",
   "execution_count": 0,
   "metadata": {
    "colab": {},
    "colab_type": "code",
    "id": "_JahQ_Buuv9L"
   },
   "outputs": [],
   "source": [
    "data_dir = \"/content/drive/My Drive/dataset/\"\n",
    "train_dir = data_dir + '/Train'\n",
    "test_dir = data_dir + '/Test'\n",
    "using_gpu = torch.cuda.is_available()"
   ]
  },
  {
   "cell_type": "code",
   "execution_count": 0,
   "metadata": {
    "colab": {},
    "colab_type": "code",
    "id": "phqO0QPdu5aG"
   },
   "outputs": [],
   "source": [
    "train_set  = torchvision.datasets.ImageFolder(train_dir, \n",
    "                                        transform = transforms.Compose([transforms.ToTensor(),\n",
    "                                        transforms.Normalize([0.485, 0.456, 0.406], \n",
    "                                                            [0.229, 0.224, 0.225])])\n",
    "\n",
    " )"
   ]
  },
  {
   "cell_type": "code",
   "execution_count": 0,
   "metadata": {
    "colab": {},
    "colab_type": "code",
    "id": "i5mfj4r_u8Ga"
   },
   "outputs": [],
   "source": [
    "test_set  = torchvision.datasets.ImageFolder(test_dir , \n",
    "                                        transform = transforms.Compose([transforms.ToTensor(),\n",
    "                                        transforms.Normalize([0.485, 0.456, 0.406], \n",
    "                                                            [0.229, 0.224, 0.225])])\n",
    "\n",
    " )"
   ]
  },
  {
   "cell_type": "code",
   "execution_count": 0,
   "metadata": {
    "colab": {},
    "colab_type": "code",
    "id": "I6YAi9hevCaC"
   },
   "outputs": [],
   "source": [
    "train_loader = torch.utils.data.DataLoader(train_set, batch_size=4, shuffle=True)"
   ]
  },
  {
   "cell_type": "code",
   "execution_count": 0,
   "metadata": {
    "colab": {},
    "colab_type": "code",
    "id": "Hzn6ipZovEBf"
   },
   "outputs": [],
   "source": [
    "test_loader = torch.utils.data.DataLoader(test_set, batch_size=100, shuffle=True)"
   ]
  },
  {
   "cell_type": "code",
   "execution_count": 0,
   "metadata": {
    "colab": {},
    "colab_type": "code",
    "id": "Ru2Oy8bmvFgp"
   },
   "outputs": [],
   "source": [
    "classes = ('benign','malignant')"
   ]
  },
  {
   "cell_type": "code",
   "execution_count": 12,
   "metadata": {
    "colab": {
     "base_uri": "https://localhost:8080/",
     "height": 169
    },
    "colab_type": "code",
    "id": "_5X4WERtvHTD",
    "outputId": "1bafc343-2c8b-46ca-cc30-b717c06ce749"
   },
   "outputs": [
    {
     "name": "stderr",
     "output_type": "stream",
     "text": [
      "Clipping input data to the valid range for imshow with RGB data ([0..1] for floats or [0..255] for integers).\n"
     ]
    },
    {
     "name": "stdout",
     "output_type": "stream",
     "text": [
      "benign malignant malignant malignant\n"
     ]
    },
    {
     "data": {
      "image/png": "[encoded data removed]",
      "text/plain": [
       "<Figure size 432x288 with 1 Axes>"
      ]
     },
     "metadata": {
      "image/png": {
       "height": 118,
       "width": 377
      },
      "tags": []
     },
     "output_type": "display_data"
    }
   ],
   "source": [
    "import matplotlib.pyplot as plt\n",
    "import numpy as np\n",
    "\n",
    "# functions to show an image\n",
    "\n",
    "\n",
    "def imshow(img):\n",
    "    img = img / 2 + 0.5     # unnormalize\n",
    "    npimg = img.numpy()\n",
    "    plt.imshow(np.transpose(npimg, (1, 2, 0)))\n",
    "\n",
    "\n",
    "# get some random training images\n",
    "dataiter = iter(train_loader)\n",
    "images, labels = dataiter.next()\n",
    "\n",
    "# show images\n",
    "imshow(torchvision.utils.make_grid(images))\n",
    "# print labels\n",
    "print(' '.join('%5s' % classes[labels[j]] for j in range(4)))"
   ]
  },
  {
   "cell_type": "code",
   "execution_count": 0,
   "metadata": {
    "colab": {},
    "colab_type": "code",
    "id": "haQUPJ9tvItP"
   },
   "outputs": [],
   "source": [
    "def get_num_correct(preds, labels):\n",
    "    return preds.argmax(dim=1).eq(labels).sum().item()\n"
   ]
  },
  {
   "cell_type": "code",
   "execution_count": 0,
   "metadata": {
    "colab": {},
    "colab_type": "code",
    "id": "NBNPmuSdvKh9"
   },
   "outputs": [],
   "source": [
    "class Network(nn.Module):\n",
    "    def __init__(self):\n",
    "        super(Network,self).__init__()\n",
    "        self.conv1 = nn.Conv2d(3, 6, kernel_size=5)\n",
    "        self.conv2 = nn.Conv2d(6, 12, kernel_size=5)\n",
    "        self.conv2_drop = nn.Dropout2d()\n",
    "        self.fc1 = nn.Linear(12*197*197, 120)\n",
    "        self.fc2 = nn.Linear(120, 60)\n",
    "        self.fc3 = nn.Linear(60, 2)\n",
    "        \n",
    "\n",
    "\n",
    "    def forward(self, x):\n",
    "        x = F.relu(F.max_pool2d(self.conv1(x), 2))\n",
    "        x = F.relu(F.max_pool2d(self.conv2_drop(self.conv2(x)), 2))\n",
    "    # Reshaping the tensor to BATCH_SIZE x 320. Torch infers this from other dimensions when one of the parameter is -1.\n",
    "        x = x.view(-1, 12 * 197 * 197)\n",
    "        x = F.relu(self.fc1(x))\n",
    "        x = F.dropout(x)\n",
    "        x = F.relu(self.fc2(x))\n",
    "        x = F.dropout(x)\n",
    "        x = self.fc3(x)\n",
    "        \n",
    "        return x"
   ]
  },
  {
   "cell_type": "code",
   "execution_count": 0,
   "metadata": {
    "colab": {},
    "colab_type": "code",
    "id": "qfjyKJuXvL7i"
   },
   "outputs": [],
   "source": [
    "network = Network()"
   ]
  },
  {
   "cell_type": "code",
   "execution_count": 0,
   "metadata": {
    "colab": {},
    "colab_type": "code",
    "id": "zBgaE74BvOPE"
   },
   "outputs": [],
   "source": [
    "for name, param in network.named_parameters():\n",
    "    print(name,'\\t\\t',param.shape)"
   ]
  },
  {
   "cell_type": "code",
   "execution_count": 0,
   "metadata": {
    "colab": {},
    "colab_type": "code",
    "id": "pGBaw14rvPdr"
   },
   "outputs": [],
   "source": [
    "train_loader = torch.utils.data.DataLoader(train_set, batch_size=10,shuffle=True)\n",
    "optimizer = optim.SGD(network.parameters(), lr=0.01)\n",
    "  "
   ]
  },
  {
   "cell_type": "code",
   "execution_count": 17,
   "metadata": {
    "colab": {
     "base_uri": "https://localhost:8080/",
     "height": 1000
    },
    "colab_type": "code",
    "id": "cXfOrnXmvQ7F",
    "outputId": "2a2fd4c8-80c4-4bc0-dc64-c40c2f37fb94"
   },
   "outputs": [
    {
     "name": "stdout",
     "output_type": "stream",
     "text": [
      "epoch 0 total_correct: 81 loss: 13.678513169288635\n",
      "epoch 1 total_correct: 72 loss: 12.034208357334137\n",
      "epoch 2 total_correct: 86 loss: 11.805805146694183\n",
      "epoch 3 total_correct: 93 loss: 11.746697723865509\n",
      "epoch 4 total_correct: 92 loss: 11.581272840499878\n",
      "epoch 5 total_correct: 97 loss: 11.549345016479492\n",
      "epoch 6 total_correct: 97 loss: 11.782423615455627\n",
      "epoch 7 total_correct: 95 loss: 11.804763972759247\n",
      "epoch 8 total_correct: 93 loss: 11.728138983249664\n",
      "epoch 9 total_correct: 101 loss: 11.428460896015167\n",
      "epoch 10 total_correct: 93 loss: 11.823866605758667\n",
      "epoch 11 total_correct: 96 loss: 11.66033285856247\n",
      "epoch 12 total_correct: 95 loss: 11.716653227806091\n",
      "epoch 13 total_correct: 96 loss: 11.627445340156555\n",
      "epoch 14 total_correct: 97 loss: 11.520678222179413\n",
      "epoch 15 total_correct: 96 loss: 11.55539470911026\n",
      "epoch 16 total_correct: 95 loss: 11.478733897209167\n",
      "epoch 17 total_correct: 97 loss: 11.607620298862457\n",
      "epoch 18 total_correct: 93 loss: 11.628394186496735\n",
      "epoch 19 total_correct: 95 loss: 11.647434115409851\n",
      "epoch 20 total_correct: 98 loss: 11.64855009317398\n",
      "epoch 21 total_correct: 96 loss: 11.613085627555847\n",
      "epoch 22 total_correct: 96 loss: 11.690727233886719\n",
      "epoch 23 total_correct: 96 loss: 11.320621252059937\n",
      "epoch 24 total_correct: 97 loss: 11.103913843631744\n",
      "epoch 25 total_correct: 97 loss: 11.283782124519348\n",
      "epoch 26 total_correct: 103 loss: 11.226670622825623\n",
      "epoch 27 total_correct: 103 loss: 11.434051513671875\n",
      "epoch 28 total_correct: 99 loss: 11.642471969127655\n",
      "epoch 29 total_correct: 98 loss: 11.444610953330994\n",
      "epoch 30 total_correct: 96 loss: 11.437397301197052\n",
      "epoch 31 total_correct: 97 loss: 11.18608146905899\n",
      "epoch 32 total_correct: 97 loss: 11.13981807231903\n",
      "epoch 33 total_correct: 92 loss: 11.708344995975494\n",
      "epoch 34 total_correct: 96 loss: 11.209665179252625\n",
      "epoch 35 total_correct: 100 loss: 11.364345908164978\n",
      "epoch 36 total_correct: 98 loss: 11.319855153560638\n",
      "epoch 37 total_correct: 103 loss: 11.030409753322601\n",
      "epoch 38 total_correct: 104 loss: 11.178344130516052\n",
      "epoch 39 total_correct: 110 loss: 11.097870111465454\n",
      "epoch 40 total_correct: 104 loss: 10.914052158594131\n",
      "epoch 41 total_correct: 112 loss: 10.386702954769135\n",
      "epoch 42 total_correct: 101 loss: 10.751365631818771\n",
      "epoch 43 total_correct: 112 loss: 10.641983360052109\n",
      "epoch 44 total_correct: 112 loss: 10.079115748405457\n",
      "epoch 45 total_correct: 116 loss: 9.574505507946014\n",
      "epoch 46 total_correct: 109 loss: 11.689537525177002\n",
      "epoch 47 total_correct: 112 loss: 10.056096076965332\n",
      "epoch 48 total_correct: 116 loss: 9.482736259698868\n",
      "epoch 49 total_correct: 112 loss: 9.362407773733139\n",
      "epoch 50 total_correct: 118 loss: 9.468862175941467\n",
      "epoch 51 total_correct: 117 loss: 9.37196546792984\n",
      "epoch 52 total_correct: 122 loss: 8.86447986960411\n",
      "epoch 53 total_correct: 121 loss: 9.078905314207077\n",
      "epoch 54 total_correct: 121 loss: 9.544196426868439\n",
      "epoch 55 total_correct: 120 loss: 9.148335993289948\n",
      "epoch 56 total_correct: 120 loss: 8.69376602768898\n",
      "epoch 57 total_correct: 124 loss: 8.05163300037384\n",
      "epoch 58 total_correct: 126 loss: 7.442691773176193\n",
      "epoch 59 total_correct: 124 loss: 8.606071799993515\n",
      "epoch 60 total_correct: 127 loss: 7.928983896970749\n",
      "epoch 61 total_correct: 129 loss: 7.554665982723236\n",
      "epoch 62 total_correct: 128 loss: 7.174632713198662\n",
      "epoch 63 total_correct: 130 loss: 7.725381717085838\n",
      "epoch 64 total_correct: 129 loss: 7.535721525549889\n",
      "epoch 65 total_correct: 131 loss: 6.987855106592178\n",
      "epoch 66 total_correct: 128 loss: 8.274988651275635\n",
      "epoch 67 total_correct: 130 loss: 6.906090706586838\n",
      "epoch 68 total_correct: 126 loss: 7.466425508260727\n",
      "epoch 69 total_correct: 133 loss: 6.616455495357513\n",
      "epoch 70 total_correct: 130 loss: 6.778282552957535\n",
      "epoch 71 total_correct: 132 loss: 6.485050350427628\n",
      "epoch 72 total_correct: 129 loss: 6.873890995979309\n",
      "epoch 73 total_correct: 133 loss: 6.266337439417839\n",
      "epoch 74 total_correct: 133 loss: 6.101192742586136\n",
      "epoch 75 total_correct: 128 loss: 7.442613989114761\n",
      "epoch 76 total_correct: 125 loss: 7.458082094788551\n",
      "epoch 77 total_correct: 125 loss: 7.81886824965477\n",
      "epoch 78 total_correct: 129 loss: 7.300101324915886\n",
      "epoch 79 total_correct: 130 loss: 6.745043411850929\n",
      "epoch 80 total_correct: 125 loss: 7.175429493188858\n",
      "epoch 81 total_correct: 132 loss: 6.401517257094383\n",
      "epoch 82 total_correct: 127 loss: 6.804301381111145\n",
      "epoch 83 total_correct: 129 loss: 6.583820998668671\n",
      "epoch 84 total_correct: 126 loss: 6.990497171878815\n",
      "epoch 85 total_correct: 131 loss: 6.510878533124924\n",
      "epoch 86 total_correct: 130 loss: 6.48673477768898\n",
      "epoch 87 total_correct: 133 loss: 6.187145486474037\n",
      "epoch 88 total_correct: 128 loss: 7.771386295557022\n",
      "epoch 89 total_correct: 132 loss: 6.466896146535873\n",
      "epoch 90 total_correct: 133 loss: 6.344571202993393\n",
      "epoch 91 total_correct: 131 loss: 6.281197294592857\n",
      "epoch 92 total_correct: 129 loss: 6.600345626473427\n",
      "epoch 93 total_correct: 128 loss: 7.436345532536507\n",
      "epoch 94 total_correct: 132 loss: 6.177953295409679\n",
      "epoch 95 total_correct: 131 loss: 6.445183262228966\n",
      "epoch 96 total_correct: 130 loss: 6.489315792918205\n",
      "epoch 97 total_correct: 131 loss: 6.2695502191782\n",
      "epoch 98 total_correct: 132 loss: 6.223239898681641\n",
      "epoch 99 total_correct: 130 loss: 6.360482148826122\n",
      "epoch 100 total_correct: 132 loss: 6.0380087196826935\n",
      "epoch 101 total_correct: 133 loss: 6.112586095929146\n",
      "epoch 102 total_correct: 132 loss: 6.210135281085968\n",
      "epoch 103 total_correct: 131 loss: 6.532999873161316\n",
      "epoch 104 total_correct: 133 loss: 6.1150012165308\n",
      "epoch 105 total_correct: 133 loss: 6.034555695950985\n",
      "epoch 106 total_correct: 133 loss: 6.036502882838249\n",
      "epoch 107 total_correct: 133 loss: 6.0252819657325745\n",
      "epoch 108 total_correct: 131 loss: 6.0954654812812805\n",
      "epoch 109 total_correct: 131 loss: 6.265297815203667\n",
      "epoch 110 total_correct: 133 loss: 5.919777937233448\n",
      "epoch 111 total_correct: 133 loss: 6.048032317310572\n",
      "epoch 112 total_correct: 133 loss: 5.846159175038338\n",
      "epoch 113 total_correct: 130 loss: 6.286203607916832\n",
      "epoch 114 total_correct: 131 loss: 6.071318671107292\n",
      "epoch 115 total_correct: 132 loss: 6.102248802781105\n",
      "epoch 116 total_correct: 132 loss: 6.056741818785667\n",
      "epoch 117 total_correct: 132 loss: 5.983987003564835\n",
      "epoch 118 total_correct: 131 loss: 5.986922159790993\n",
      "epoch 119 total_correct: 133 loss: 6.018152087926865\n",
      "epoch 120 total_correct: 132 loss: 5.990900531411171\n",
      "epoch 121 total_correct: 132 loss: 6.103088915348053\n",
      "epoch 122 total_correct: 131 loss: 6.370202451944351\n",
      "epoch 123 total_correct: 133 loss: 6.1990183144807816\n",
      "epoch 124 total_correct: 131 loss: 6.256131071597338\n",
      "epoch 125 total_correct: 131 loss: 6.399227030575275\n",
      "epoch 126 total_correct: 132 loss: 6.848893374204636\n",
      "epoch 127 total_correct: 132 loss: 6.15413524210453\n",
      "epoch 128 total_correct: 132 loss: 6.274844020605087\n",
      "epoch 129 total_correct: 132 loss: 6.00227065384388\n",
      "epoch 130 total_correct: 131 loss: 6.333785071969032\n",
      "epoch 131 total_correct: 132 loss: 6.097461476922035\n",
      "epoch 132 total_correct: 132 loss: 6.180312588810921\n",
      "epoch 133 total_correct: 133 loss: 6.027115002274513\n",
      "epoch 134 total_correct: 130 loss: 6.243024215102196\n",
      "epoch 135 total_correct: 132 loss: 6.001090258359909\n",
      "epoch 136 total_correct: 133 loss: 6.008559527981561\n",
      "epoch 137 total_correct: 133 loss: 5.8930773213505745\n",
      "epoch 138 total_correct: 133 loss: 5.9936027973890305\n",
      "epoch 139 total_correct: 133 loss: 5.967358276247978\n",
      "epoch 140 total_correct: 132 loss: 6.058020174503326\n",
      "epoch 141 total_correct: 132 loss: 6.512334585189819\n",
      "epoch 142 total_correct: 132 loss: 6.395076885819435\n",
      "epoch 143 total_correct: 131 loss: 6.6570015251636505\n",
      "epoch 144 total_correct: 131 loss: 6.148057296872139\n",
      "epoch 145 total_correct: 132 loss: 6.367277830839157\n",
      "epoch 146 total_correct: 130 loss: 6.505637660622597\n",
      "epoch 147 total_correct: 128 loss: 6.425432801246643\n",
      "epoch 148 total_correct: 132 loss: 6.153354823589325\n",
      "epoch 149 total_correct: 132 loss: 6.089657247066498\n",
      "epoch 150 total_correct: 133 loss: 6.178800173103809\n",
      "epoch 151 total_correct: 131 loss: 6.307544335722923\n",
      "epoch 152 total_correct: 132 loss: 6.006971534341574\n",
      "epoch 153 total_correct: 130 loss: 6.347246438264847\n",
      "epoch 154 total_correct: 130 loss: 6.8522829413414\n",
      "epoch 155 total_correct: 131 loss: 6.547720432281494\n",
      "epoch 156 total_correct: 132 loss: 6.050180479884148\n",
      "epoch 157 total_correct: 133 loss: 6.088304325938225\n",
      "epoch 158 total_correct: 130 loss: 6.233335906261345\n",
      "epoch 159 total_correct: 130 loss: 6.080069065093994\n",
      "epoch 160 total_correct: 133 loss: 5.899480685591698\n",
      "epoch 161 total_correct: 132 loss: 6.046562731266022\n",
      "epoch 162 total_correct: 131 loss: 6.00946818292141\n",
      "epoch 163 total_correct: 132 loss: 6.103269174695015\n",
      "epoch 164 total_correct: 131 loss: 6.1197576224803925\n",
      "epoch 165 total_correct: 132 loss: 5.992080450057983\n",
      "epoch 166 total_correct: 131 loss: 6.279527619481087\n",
      "epoch 167 total_correct: 132 loss: 6.066520377993584\n",
      "epoch 168 total_correct: 131 loss: 6.209298938512802\n",
      "epoch 169 total_correct: 133 loss: 6.207567825913429\n",
      "epoch 170 total_correct: 132 loss: 6.138090170919895\n",
      "epoch 171 total_correct: 133 loss: 5.8494222313165665\n",
      "epoch 172 total_correct: 132 loss: 5.99297508597374\n",
      "epoch 173 total_correct: 132 loss: 6.130893483757973\n",
      "epoch 174 total_correct: 132 loss: 6.091101661324501\n",
      "epoch 175 total_correct: 133 loss: 5.910062313079834\n",
      "epoch 176 total_correct: 132 loss: 6.087462529540062\n",
      "epoch 177 total_correct: 133 loss: 5.916621088981628\n",
      "epoch 178 total_correct: 133 loss: 5.903139904141426\n",
      "epoch 179 total_correct: 132 loss: 5.993986785411835\n",
      "epoch 180 total_correct: 132 loss: 6.142334282398224\n",
      "epoch 181 total_correct: 133 loss: 5.87337626516819\n",
      "epoch 182 total_correct: 132 loss: 5.977692350745201\n",
      "epoch 183 total_correct: 133 loss: 5.974648892879486\n",
      "epoch 184 total_correct: 133 loss: 5.863821521401405\n",
      "epoch 185 total_correct: 132 loss: 6.001401960849762\n",
      "epoch 186 total_correct: 132 loss: 5.912803843617439\n",
      "epoch 187 total_correct: 132 loss: 6.133081793785095\n",
      "epoch 188 total_correct: 130 loss: 6.263508573174477\n",
      "epoch 189 total_correct: 132 loss: 6.0272142589092255\n",
      "epoch 190 total_correct: 131 loss: 6.4456498473882675\n",
      "epoch 191 total_correct: 133 loss: 6.070525020360947\n",
      "epoch 192 total_correct: 131 loss: 6.080773666501045\n",
      "epoch 193 total_correct: 130 loss: 6.818521782755852\n",
      "epoch 194 total_correct: 130 loss: 6.301070675253868\n",
      "epoch 195 total_correct: 133 loss: 5.992044359445572\n",
      "epoch 196 total_correct: 133 loss: 5.992612078785896\n",
      "epoch 197 total_correct: 133 loss: 5.958011016249657\n",
      "epoch 198 total_correct: 132 loss: 6.010158374905586\n",
      "epoch 199 total_correct: 132 loss: 6.064514547586441\n"
     ]
    }
   ],
   "source": [
    "for epoch in range(200):\n",
    "\n",
    "    total_loss = 0\n",
    "    total_correct = 0\n",
    "\n",
    "    for batch in train_loader: # Get Batch # completed 6000 image in single epoch with \n",
    "                               # batch size 100 \n",
    "        images, labels = batch \n",
    "\n",
    "        preds = network(images) # Pass Batch\n",
    "        loss = F.cross_entropy(preds, labels) # Calculate Loss\n",
    "\n",
    "        optimizer.zero_grad() # doning zero grad value after every mini batch \n",
    "        loss.backward() # Calculate Gradients\n",
    "        optimizer.step() # Update Weights\n",
    "\n",
    "        total_loss += loss.item()\n",
    "        total_correct += get_num_correct(preds, labels)\n",
    "\n",
    "    print(\n",
    "        \"epoch\", epoch, \n",
    "        \"total_correct:\", total_correct, \n",
    "        \"loss:\", total_loss\n",
    "    )\n",
    "\n"
   ]
  },
  {
   "cell_type": "code",
   "execution_count": 0,
   "metadata": {
    "colab": {},
    "colab_type": "code",
    "id": "VGjxohVpvSnk"
   },
   "outputs": [],
   "source": [
    "@torch.no_grad()\n",
    "def get_all_preds(model, loader):\n",
    "    all_preds = torch.tensor([])\n",
    "    for batch in prediction_loader:\n",
    "        images, labels = batch\n",
    "\n",
    "        preds = model(images)\n",
    "        all_preds = torch.cat((all_preds, preds),dim=0)\n",
    "    return all_preds"
   ]
  },
  {
   "cell_type": "code",
   "execution_count": 0,
   "metadata": {
    "colab": {},
    "colab_type": "code",
    "id": "UzIXUoPlvWLz"
   },
   "outputs": [],
   "source": [
    "with torch.no_grad():\n",
    "    prediction_loader = torch.utils.data.DataLoader(test_set, batch_size=4)\n",
    "    test_preds = get_all_preds(network, prediction_loader)"
   ]
  },
  {
   "cell_type": "code",
   "execution_count": 0,
   "metadata": {
    "colab": {},
    "colab_type": "code",
    "id": "RHMsOmcdvXmR"
   },
   "outputs": [],
   "source": [
    "import numpy\n",
    "test_set.targets = torch.from_numpy(numpy.array(test_set.targets, dtype='int64'))"
   ]
  },
  {
   "cell_type": "code",
   "execution_count": 21,
   "metadata": {
    "colab": {
     "base_uri": "https://localhost:8080/",
     "height": 51
    },
    "colab_type": "code",
    "id": "9-QciHgovY6Y",
    "outputId": "06b94037-e250-439c-b4e0-21c1dfa7dbc8"
   },
   "outputs": [
    {
     "name": "stdout",
     "output_type": "stream",
     "text": [
      "total correct: 91\n",
      "accuracy: 56.875\n"
     ]
    }
   ],
   "source": [
    "preds_correct = get_num_correct(test_preds, test_set.targets)\n",
    "\n",
    "print('total correct:', preds_correct)\n",
    "print('accuracy:', preds_correct / len(test_set)*100)\n"
   ]
  },
  {
   "cell_type": "code",
   "execution_count": 0,
   "metadata": {
    "colab": {},
    "colab_type": "code",
    "id": "uqZ1pAwFvaO6"
   },
   "outputs": [],
   "source": []
  }
 ],
 "metadata": {
  "accelerator": "TPU",
  "colab": {
   "name": "Dentisty.ai.ipynb",
   "provenance": [],
   "version": "0.3.2"
  },
  "kernelspec": {
   "display_name": "Python 3",
   "language": "python",
   "name": "python3"
  },
  "language_info": {
   "codemirror_mode": {
    "name": "ipython",
    "version": 3
   },
   "file_extension": ".py",
   "mimetype": "text/x-python",
   "name": "python",
   "nbconvert_exporter": "python",
   "pygments_lexer": "ipython3",
   "version": "3.7.4"
  }
 },
 "nbformat": 4,
 "nbformat_minor": 1
}
